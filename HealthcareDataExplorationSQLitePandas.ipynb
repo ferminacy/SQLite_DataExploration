{
  "nbformat": 4,
  "nbformat_minor": 0,
  "metadata": {
    "colab": {
      "provenance": [],
      "authorship_tag": "ABX9TyMiJacntdciyCw/GkofroH4",
      "include_colab_link": true
    },
    "kernelspec": {
      "name": "python3",
      "display_name": "Python 3"
    },
    "language_info": {
      "name": "python"
    }
  },
  "cells": [
    {
      "cell_type": "markdown",
      "metadata": {
        "id": "view-in-github",
        "colab_type": "text"
      },
      "source": [
        "<a href=\"https://colab.research.google.com/github/ferminacy/Sqlite_Dataexploration/blob/main/HealthcareDataExplorationSQLitePandas.ipynb\" target=\"_parent\"><img src=\"https://colab.research.google.com/assets/colab-badge.svg\" alt=\"Open In Colab\"/></a>"
      ]
    },
    {
      "cell_type": "code",
      "execution_count": 25,
      "metadata": {
        "id": "AoxCYyyRFcIV"
      },
      "outputs": [],
      "source": [
        "import pandas as pd\n",
        "import sqlite3"
      ]
    },
    {
      "cell_type": "code",
      "source": [
        "!pip install pandas"
      ],
      "metadata": {
        "colab": {
          "base_uri": "https://localhost:8080/"
        },
        "id": "f3V-imVxF_mW",
        "outputId": "ec57d2c1-97b8-41cb-a44e-12823747b521"
      },
      "execution_count": 26,
      "outputs": [
        {
          "output_type": "stream",
          "name": "stdout",
          "text": [
            "Requirement already satisfied: pandas in /usr/local/lib/python3.10/dist-packages (2.1.4)\n",
            "Requirement already satisfied: numpy<2,>=1.22.4 in /usr/local/lib/python3.10/dist-packages (from pandas) (1.26.4)\n",
            "Requirement already satisfied: python-dateutil>=2.8.2 in /usr/local/lib/python3.10/dist-packages (from pandas) (2.8.2)\n",
            "Requirement already satisfied: pytz>=2020.1 in /usr/local/lib/python3.10/dist-packages (from pandas) (2024.2)\n",
            "Requirement already satisfied: tzdata>=2022.1 in /usr/local/lib/python3.10/dist-packages (from pandas) (2024.1)\n",
            "Requirement already satisfied: six>=1.5 in /usr/local/lib/python3.10/dist-packages (from python-dateutil>=2.8.2->pandas) (1.16.0)\n"
          ]
        }
      ]
    },
    {
      "cell_type": "code",
      "source": [
        "df = pd.read_csv('https://data.cdc.gov/resource/muzy-jte6.csv')\n",
        "#Set has been downloaded in CSV format"
      ],
      "metadata": {
        "id": "sIGUzqrLPlOB"
      },
      "execution_count": 49,
      "outputs": []
    },
    {
      "cell_type": "code",
      "source": [
        "print(df.head())\n",
        "print(df_columns)\n",
        "#Ensure that CSV file loaded correctly"
      ],
      "metadata": {
        "colab": {
          "base_uri": "https://localhost:8080/"
        },
        "collapsed": true,
        "id": "8F7zuhn0Q8pf",
        "outputId": "422145c3-ad06-4571-885a-f3dbf00a1127"
      },
      "execution_count": 50,
      "outputs": [
        {
          "output_type": "stream",
          "name": "stdout",
          "text": [
            "                data_as_of jurisdiction_of_occurrence  mmwryear  mmwrweek  \\\n",
            "0  2023-09-27T00:00:00.000              United States      2020         1   \n",
            "1  2023-09-27T00:00:00.000              United States      2020         2   \n",
            "2  2023-09-27T00:00:00.000              United States      2020         3   \n",
            "3  2023-09-27T00:00:00.000              United States      2020         4   \n",
            "4  2023-09-27T00:00:00.000              United States      2020         5   \n",
            "\n",
            "  week_ending_date  all_cause  natural_cause  septicemia_a40_a41  \\\n",
            "0       2020-01-04      60179          55010               843.0   \n",
            "1       2020-01-11      60735          55755               861.0   \n",
            "2       2020-01-18      59363          54516               829.0   \n",
            "3       2020-01-25      59162          54401               828.0   \n",
            "4       2020-02-01      58834          54001               811.0   \n",
            "\n",
            "   malignant_neoplasms_c00_c97  diabetes_mellitus_e10_e14  ...  flag_alz  \\\n",
            "0                      11567.0                     1829.0  ...       NaN   \n",
            "1                      11963.0                     1942.0  ...       NaN   \n",
            "2                      11701.0                     1819.0  ...       NaN   \n",
            "3                      11879.0                     1864.0  ...       NaN   \n",
            "4                      11963.0                     1828.0  ...       NaN   \n",
            "\n",
            "   flag_inflpn  flag_clrd  flag_otherresp  flag_nephr  flag_otherunk  flag_hd  \\\n",
            "0          NaN        NaN             NaN         NaN            NaN      NaN   \n",
            "1          NaN        NaN             NaN         NaN            NaN      NaN   \n",
            "2          NaN        NaN             NaN         NaN            NaN      NaN   \n",
            "3          NaN        NaN             NaN         NaN            NaN      NaN   \n",
            "4          NaN        NaN             NaN         NaN            NaN      NaN   \n",
            "\n",
            "   flag_stroke  flag_cov19mcod  flag_cov19ucod  \n",
            "0          NaN             NaN             NaN  \n",
            "1          NaN             NaN             NaN  \n",
            "2          NaN             NaN             NaN  \n",
            "3          NaN             NaN             NaN  \n",
            "4          NaN             NaN             NaN  \n",
            "\n",
            "[5 rows x 35 columns]\n",
            "   cid                                               name  type  notnull  \\\n",
            "0    0  data_as_of,\"jurisdiction_of_occurrence\",\"mmwry...  TEXT        0   \n",
            "\n",
            "  dflt_value  pk  \n",
            "0       None   0  \n"
          ]
        }
      ]
    },
    {
      "cell_type": "code",
      "source": [
        "conn = sqlite3.connect('healthcare.db')\n",
        "cur = conn.cursor()"
      ],
      "metadata": {
        "id": "bi4mXCJaR1X1"
      },
      "execution_count": 51,
      "outputs": []
    },
    {
      "cell_type": "code",
      "source": [
        "df.to_sql('healthcare_data', conn, if_exists='replace', index=False)"
      ],
      "metadata": {
        "colab": {
          "base_uri": "https://localhost:8080/"
        },
        "id": "Jcp9WjS-SBW7",
        "outputId": "9ff1980d-b717-40e0-e577-d37fac5d9d9c"
      },
      "execution_count": 52,
      "outputs": [
        {
          "output_type": "execute_result",
          "data": {
            "text/plain": [
              "1000"
            ]
          },
          "metadata": {},
          "execution_count": 52
        }
      ]
    },
    {
      "cell_type": "code",
      "source": [
        "query = \"SELECT * FROM healthcare_data LIMIT 5;\"\n",
        "result = pd.read_sql(query, conn)\n",
        "print(result)"
      ],
      "metadata": {
        "colab": {
          "base_uri": "https://localhost:8080/"
        },
        "collapsed": true,
        "id": "GXHF_wDpSJFv",
        "outputId": "b82a8d7f-5527-41c2-866f-6cfb95754a39"
      },
      "execution_count": 53,
      "outputs": [
        {
          "output_type": "stream",
          "name": "stdout",
          "text": [
            "                data_as_of jurisdiction_of_occurrence  mmwryear  mmwrweek  \\\n",
            "0  2023-09-27T00:00:00.000              United States      2020         1   \n",
            "1  2023-09-27T00:00:00.000              United States      2020         2   \n",
            "2  2023-09-27T00:00:00.000              United States      2020         3   \n",
            "3  2023-09-27T00:00:00.000              United States      2020         4   \n",
            "4  2023-09-27T00:00:00.000              United States      2020         5   \n",
            "\n",
            "  week_ending_date  all_cause  natural_cause  septicemia_a40_a41  \\\n",
            "0       2020-01-04      60179          55010               843.0   \n",
            "1       2020-01-11      60735          55755               861.0   \n",
            "2       2020-01-18      59363          54516               829.0   \n",
            "3       2020-01-25      59162          54401               828.0   \n",
            "4       2020-02-01      58834          54001               811.0   \n",
            "\n",
            "   malignant_neoplasms_c00_c97  diabetes_mellitus_e10_e14  ...  flag_alz  \\\n",
            "0                      11567.0                     1829.0  ...      None   \n",
            "1                      11963.0                     1942.0  ...      None   \n",
            "2                      11701.0                     1819.0  ...      None   \n",
            "3                      11879.0                     1864.0  ...      None   \n",
            "4                      11963.0                     1828.0  ...      None   \n",
            "\n",
            "   flag_inflpn  flag_clrd  flag_otherresp  flag_nephr  flag_otherunk  flag_hd  \\\n",
            "0         None       None            None        None           None     None   \n",
            "1         None       None            None        None           None     None   \n",
            "2         None       None            None        None           None     None   \n",
            "3         None       None            None        None           None     None   \n",
            "4         None       None            None        None           None     None   \n",
            "\n",
            "   flag_stroke  flag_cov19mcod  flag_cov19ucod  \n",
            "0         None            None            None  \n",
            "1         None            None            None  \n",
            "2         None            None            None  \n",
            "3         None            None            None  \n",
            "4         None            None            None  \n",
            "\n",
            "[5 rows x 35 columns]\n"
          ]
        }
      ]
    },
    {
      "cell_type": "code",
      "source": [
        "conn.close()"
      ],
      "metadata": {
        "id": "9HSNQxaESP9U"
      },
      "execution_count": 54,
      "outputs": []
    },
    {
      "cell_type": "code",
      "source": [
        "conn = sqlite3.connect('healthcare.db')\n",
        "\n",
        "query1 = \"\"\"\n",
        "SELECT *\n",
        "FROM healthcare_data\n",
        "WHERE mmwryear = 2020;\n",
        "\"\"\"\n",
        "\n",
        "df_query1 = pd.read_sql(query1, conn)\n",
        "print(df_query1.head())\n",
        "#Query 1: Select all records based on a specific filter of your choice"
      ],
      "metadata": {
        "colab": {
          "base_uri": "https://localhost:8080/"
        },
        "collapsed": true,
        "id": "Ea16G7rZcvQA",
        "outputId": "b9ea66f8-a79a-4ad6-f633-f9473f22d693"
      },
      "execution_count": 56,
      "outputs": [
        {
          "output_type": "stream",
          "name": "stdout",
          "text": [
            "                data_as_of jurisdiction_of_occurrence  mmwryear  mmwrweek  \\\n",
            "0  2023-09-27T00:00:00.000              United States      2020         1   \n",
            "1  2023-09-27T00:00:00.000              United States      2020         2   \n",
            "2  2023-09-27T00:00:00.000              United States      2020         3   \n",
            "3  2023-09-27T00:00:00.000              United States      2020         4   \n",
            "4  2023-09-27T00:00:00.000              United States      2020         5   \n",
            "\n",
            "  week_ending_date  all_cause  natural_cause  septicemia_a40_a41  \\\n",
            "0       2020-01-04      60179          55010               843.0   \n",
            "1       2020-01-11      60735          55755               861.0   \n",
            "2       2020-01-18      59363          54516               829.0   \n",
            "3       2020-01-25      59162          54401               828.0   \n",
            "4       2020-02-01      58834          54001               811.0   \n",
            "\n",
            "   malignant_neoplasms_c00_c97  diabetes_mellitus_e10_e14  ...  flag_alz  \\\n",
            "0                      11567.0                     1829.0  ...      None   \n",
            "1                      11963.0                     1942.0  ...      None   \n",
            "2                      11701.0                     1819.0  ...      None   \n",
            "3                      11879.0                     1864.0  ...      None   \n",
            "4                      11963.0                     1828.0  ...      None   \n",
            "\n",
            "   flag_inflpn  flag_clrd  flag_otherresp  flag_nephr  flag_otherunk  flag_hd  \\\n",
            "0         None       None            None        None           None     None   \n",
            "1         None       None            None        None           None     None   \n",
            "2         None       None            None        None           None     None   \n",
            "3         None       None            None        None           None     None   \n",
            "4         None       None            None        None           None     None   \n",
            "\n",
            "   flag_stroke  flag_cov19mcod  flag_cov19ucod  \n",
            "0         None            None            None  \n",
            "1         None            None            None  \n",
            "2         None            None            None  \n",
            "3         None            None            None  \n",
            "4         None            None            None  \n",
            "\n",
            "[5 rows x 35 columns]\n"
          ]
        }
      ]
    },
    {
      "cell_type": "code",
      "source": [
        "query2 = \"\"\"\n",
        "SELECT COUNT(*)\n",
        "FROM healthcare_data\n",
        "WHERE covid_19_u071_multiple_cause_of_death > 0;\n",
        "\"\"\"\n",
        "\n",
        "df_query2 = pd.read_sql(query2, conn)\n",
        "print(df_query2)\n",
        "#Query 2: Count the number of records that meet a certain condition\n",
        "#774 records where COVID is listed as multiple causes of death"
      ],
      "metadata": {
        "colab": {
          "base_uri": "https://localhost:8080/"
        },
        "id": "Tc1l7B2Ihwjz",
        "outputId": "1e113911-5200-4fa8-e373-a6e86245c82f"
      },
      "execution_count": 57,
      "outputs": [
        {
          "output_type": "stream",
          "name": "stdout",
          "text": [
            "   COUNT(*)\n",
            "0       774\n"
          ]
        }
      ]
    },
    {
      "cell_type": "code",
      "source": [
        "query3 = \"\"\"\n",
        "SELECT mmwryear, SUM(all_cause) AS total_all_cause_deaths\n",
        "FROM healthcare_data\n",
        "GROUP BY mmwryear;\n",
        "\"\"\"\n",
        "\n",
        "df_query3 = pd.read_sql(query3, conn)\n",
        "print(df_query3)\n",
        "#Query 3: Group the data by a specific column and calculate a summary statistic"
      ],
      "metadata": {
        "colab": {
          "base_uri": "https://localhost:8080/"
        },
        "id": "hSCAquc2rO4-",
        "outputId": "efc9a5d0-24c4-432c-e912-84ed4c33931c"
      },
      "execution_count": 58,
      "outputs": [
        {
          "output_type": "stream",
          "name": "stdout",
          "text": [
            "   mmwryear  total_all_cause_deaths\n",
            "0      2020                 3800593\n",
            "1      2021                 3652526\n",
            "2      2022                 3457170\n",
            "3      2023                 2251220\n"
          ]
        }
      ]
    },
    {
      "cell_type": "markdown",
      "source": [],
      "metadata": {
        "id": "Nbq6DRn1XKrL"
      }
    },
    {
      "cell_type": "code",
      "source": [
        "query4 = \"\"\"\n",
        "SELECT *\n",
        "FROM healthcare_data\n",
        "ORDER BY all_cause DESC\n",
        "LIMIT 5;\n",
        "\"\"\"\n",
        "\n",
        "df_query4 = pd.read_sql(query4, conn)\n",
        "print(df_query4)\n",
        "#Query 4: Sort the records based on a numerical or categorical field and return a limited set of results"
      ],
      "metadata": {
        "colab": {
          "base_uri": "https://localhost:8080/"
        },
        "id": "mkZQLFE2rkk3",
        "outputId": "5e61037c-ebd7-49c4-f158-270510d91403"
      },
      "execution_count": 60,
      "outputs": [
        {
          "output_type": "stream",
          "name": "stdout",
          "text": [
            "                data_as_of jurisdiction_of_occurrence  mmwryear  mmwrweek  \\\n",
            "0  2023-09-27T00:00:00.000              United States      2021         2   \n",
            "1  2023-09-27T00:00:00.000              United States      2021         1   \n",
            "2  2023-09-27T00:00:00.000              United States      2020        53   \n",
            "3  2023-09-27T00:00:00.000              United States      2022         3   \n",
            "4  2023-09-27T00:00:00.000              United States      2022         2   \n",
            "\n",
            "  week_ending_date  all_cause  natural_cause  septicemia_a40_a41  \\\n",
            "0       2021-01-16      87415          81622               828.0   \n",
            "1       2021-01-09      87074          81201               854.0   \n",
            "2       2021-01-02      87033          81119               894.0   \n",
            "3       2022-01-22      85747          79835               864.0   \n",
            "4       2022-01-15      85133          79112               950.0   \n",
            "\n",
            "   malignant_neoplasms_c00_c97  diabetes_mellitus_e10_e14  ...  flag_alz  \\\n",
            "0                      11852.0                     2473.0  ...      None   \n",
            "1                      11340.0                     2377.0  ...      None   \n",
            "2                      11694.0                     2448.0  ...      None   \n",
            "3                      11979.0                     2601.0  ...      None   \n",
            "4                      12284.0                     2549.0  ...      None   \n",
            "\n",
            "   flag_inflpn  flag_clrd  flag_otherresp  flag_nephr  flag_otherunk  flag_hd  \\\n",
            "0         None       None            None        None           None     None   \n",
            "1         None       None            None        None           None     None   \n",
            "2         None       None            None        None           None     None   \n",
            "3         None       None            None        None           None     None   \n",
            "4         None       None            None        None           None     None   \n",
            "\n",
            "   flag_stroke  flag_cov19mcod  flag_cov19ucod  \n",
            "0         None            None            None  \n",
            "1         None            None            None  \n",
            "2         None            None            None  \n",
            "3         None            None            None  \n",
            "4         None            None            None  \n",
            "\n",
            "[5 rows x 35 columns]\n"
          ]
        }
      ]
    }
  ]
}